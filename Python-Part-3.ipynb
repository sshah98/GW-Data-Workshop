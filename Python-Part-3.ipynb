{
 "cells": [
  {
   "cell_type": "markdown",
   "metadata": {},
   "source": [
    "# Python with Finance Data\n",
    "\n",
    "### Working with stock data\n",
    "\n",
    "Why is stock data so good with data analysis? There's plenty of useful information from stocks - Dates, recent prices, highest prices, lowest prices, number of people who bought that stock during a certain date\n",
    "\n",
    "It's very hard to predict stock prices, but we can use data analysis to understand this information better!\n"
   ]
  },
  {
   "cell_type": "code",
   "execution_count": null,
   "metadata": {},
   "outputs": [],
   "source": [
    "# This is new - pandas_datareader allows us to get realtime data (sorta) from various online websites\n",
    "# Yahoo finance, bloomberg, etc.\n",
    "\n",
    "from pandas_datareader import data\n",
    "import numpy as np\n",
    "import matplotlib.pyplot as plt\n",
    "import pandas as pd\n",
    "import datetime"
   ]
  },
  {
   "cell_type": "code",
   "execution_count": null,
   "metadata": {},
   "outputs": [],
   "source": [
    "# Define the instruments to download. We would like to see Apple, Microsoft and the S&P500 index.\n",
    "ticker = 'TSLA'\n",
    "\n",
    "# We would like all available data from 01/01/2010 until today\n",
    "start_date = '2010-01-01'\n",
    "\n",
    "# adjusts the time using a datetime library in the YYYY-MM-DD format\n",
    "end_date = datetime.datetime.today().strftime('%Y-%m-%d')\n",
    "\n",
    "# User pandas_reader.data.DataReader to load the desired data. As simple as that.\n",
    "df = data.DataReader('TSLA', 'yahoo', start_date, end_date)\n",
    "\n",
    "# if df.head gets the first 5 rows, what will df.tail do?\n",
    "df.tail()"
   ]
  },
  {
   "cell_type": "markdown",
   "metadata": {},
   "source": [
    "### Let's plot the data\n",
    "We'll plot this data in a few different ways, but first let's get a simple plot\n"
   ]
  },
  {
   "cell_type": "code",
   "execution_count": null,
   "metadata": {},
   "outputs": [],
   "source": [
    "df['Close'].plot(grid=True, figsize=(16, 8))\n"
   ]
  },
  {
   "cell_type": "markdown",
   "metadata": {},
   "source": [
    "### Data manipulation with stocks\n",
    "You can also directly manipulate your data. What if we got the daily percent change? That would be useful to see how much the value of our stock is increasing from day to day."
   ]
  },
  {
   "cell_type": "code",
   "execution_count": null,
   "metadata": {},
   "outputs": [],
   "source": [
    "# Assign `Adj Close` to `daily_close`\n",
    "daily_close = df[['Adj Close']]\n",
    "\n",
    "# Daily returns\n",
    "daily_pct_change = daily_close.pct_change()\n",
    "\n",
    "# Replace NA values with 0\n",
    "daily_pct_change.fillna(0, inplace=True)\n",
    "\n",
    "# Inspect daily returns\n",
    "print(daily_pct_change)"
   ]
  },
  {
   "cell_type": "markdown",
   "metadata": {},
   "source": [
    "### This is how to get the rolling mean \n",
    "\n",
    "What is a rolling mean? \n",
    "- Rolling means (or moving averages) are used to smooth out short-term fluctuations in data\n",
    "- highlight long-term trends\n",
    "- **used to gauge the direction of the current trend**"
   ]
  },
  {
   "cell_type": "code",
   "execution_count": null,
   "metadata": {},
   "outputs": [],
   "source": [
    "adj_close_px = df['Adj Close']\n",
    "\n",
    "moving_avg = adj_close_px.rolling(window=40).mean()\n",
    "\n",
    "\n",
    "df['20'] = adj_close_px.rolling(window=20).mean()\n",
    "\n",
    "# 252 day rolling mean\n",
    "df['200'] = adj_close_px.rolling(window=200).mean()\n",
    "\n",
    "df[['Adj Close', '20', '200']].plot(figsize=(14, 8))\n",
    "\n",
    "plt.show()\n"
   ]
  },
  {
   "cell_type": "markdown",
   "metadata": {},
   "source": [
    "### Getting a little more complicated\n",
    "Don't worry if you don't understand the code entirely. The point is to see the power of pandas. Most of the basics have been given in the last 2 notebooks!\n",
    "\n",
    "Volatility is the amount of price change over a given period of time. How likely is this stock going to change - up or down? Generally speaking, the higher the volatility, the riskier the stock\n",
    "\n",
    "**Calculating volatility**\n",
    "- Caclulcate the daily percent change average over the number of periods you want\n",
    "- get the standard deviation of that\n",
    "- multiply by the square root of the number of periods"
   ]
  },
  {
   "cell_type": "code",
   "execution_count": null,
   "metadata": {},
   "outputs": [],
   "source": [
    "# Define the minumum of periods to consider \n",
    "min_periods = 75 \n",
    "\n",
    "# Calculate the volatility\n",
    "vol = daily_pct_change.rolling(min_periods).std() * np.sqrt(min_periods) \n",
    "\n",
    "# Plot the volatility\n",
    "vol.plot(figsize=(10, 8))\n",
    "\n",
    "# Show the plot\n",
    "plt.show()"
   ]
  }
 ],
 "metadata": {
  "kernelspec": {
   "display_name": "env",
   "language": "python",
   "name": "env"
  },
  "language_info": {
   "codemirror_mode": {
    "name": "ipython",
    "version": 3
   },
   "file_extension": ".py",
   "mimetype": "text/x-python",
   "name": "python",
   "nbconvert_exporter": "python",
   "pygments_lexer": "ipython3",
   "version": "3.5.2"
  }
 },
 "nbformat": 4,
 "nbformat_minor": 2
}
