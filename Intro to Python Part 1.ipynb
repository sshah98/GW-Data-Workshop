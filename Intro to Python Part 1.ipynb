{
 "cells": [
  {
   "cell_type": "markdown",
   "metadata": {},
   "source": [
    "# Introduction to Python"
   ]
  },
  {
   "cell_type": "markdown",
   "metadata": {},
   "source": [
    "## Why Python\n",
    "### Python can do a lot! Make graphs, trade stocks, build machine learning algorithms!\n",
    "\n",
    "<h3>\"Why should I care?\"</h3>\n",
    "Data analysis is huge! Data scientists are one of the most sought after positions! They make a ton of money\n",
    "\n",
    "<h3>\"...Ok I don't care about money!\"</h3>\n",
    "<p>That's fine! Programming is a skill that helps develop critical thinking!</p>\n",
    "\n",
    "There are plenty of cool things you can do with Python. Thanks for coming out to this workshop to get a glimpse of how Python works and what you can do with it!\n",
    "\n"
   ]
  },
  {
   "cell_type": "markdown",
   "metadata": {},
   "source": [
    "## Strings\n",
    "\n",
    "### To run this tab, press the \"Run\" button on the top bar or press \"Ctrl-Enter\""
   ]
  },
  {
   "cell_type": "code",
   "execution_count": null,
   "metadata": {},
   "outputs": [],
   "source": [
    "#Strings\n",
    "\n",
    "print(\"\\nStrings:\\n\")\n",
    "hello = \"hello\"\n",
    "world = \"world\" # We can also comment after any line of code\n",
    "single_quotes = 'string with single quotes' # Strings can be defined with ' or \"\n",
    "\n",
    "# We can print out any string to the console using the print() function\n",
    "print(hello)\n",
    "\n",
    "# We can also add strings together:\n",
    "print(hello + world)\n",
    "\n",
    "hello_world = hello + \" \" + world\n",
    "print(hello_word)\n",
    "\n",
    "# You don't need to print if you want to get the output, just type the variable out:\n",
    "hello_world # Will get Out[#]:  'hello world'\n",
    "\n"
   ]
  },
  {
   "cell_type": "markdown",
   "metadata": {},
   "source": [
    "### Indexing/Slicing\n",
    "We can also index into a string (i.e. select certain portions of the string) by using a set notation:\n",
    "\n",
    "**Indexing Rules:**\n",
    " - [x:y:z] gets from the x element to the yth element by z elements\n",
    "   - ex. [2:5:2] will get the 2nd and 4th element (2, skip 3, 4, end) \n",
    " - [-x] gets the xth element working from the end of the string\n",
    "   - ex. long_str[-2] would return n\n",
    "   "
   ]
  },
  {
   "cell_type": "code",
   "execution_count": null,
   "metadata": {},
   "outputs": [],
   "source": [
    "print(\"\\nString Indexing:\\n\")\n",
    "\n",
    "long_str = \"This is an example of a long string\"\n",
    "\n",
    "# We can index into a string using brackets\n",
    "print(long_str[2]) \n",
    "\n",
    "# [n:] will print out fourth element onward\n",
    "print(long_str[5:]) \n",
    "\n",
    "# what does this do? How does it work?\n",
    "print(long_str[::-1])"
   ]
  },
  {
   "cell_type": "markdown",
   "metadata": {},
   "source": [
    "### Try it yourself!\n"
   ]
  },
  {
   "cell_type": "code",
   "execution_count": null,
   "metadata": {},
   "outputs": [],
   "source": [
    "#Problem 1\n",
    "\"\"\"\n",
    "Using indexing and concatentaiton, print out \"Hello world\" from the provided string (hw)\n",
    "\"\"\"\n",
    "hw = \"Hello there are a couple of words here that make the world far apart\"\n",
    "\n",
    "#Problem 2\n",
    "\"\"\"\n",
    "There is a hidden message in the text below\n",
    "    - hint: you'll only want every other letter!\n",
    "\"\"\"\n",
    "encoded_str = \"ydouuf bwberrmep daebklqep ptgot vpdamrgshev itghfipsq itxehxutk!q\"\n",
    "\n",
    "\n"
   ]
  },
  {
   "cell_type": "markdown",
   "metadata": {},
   "source": [
    "### Numbers\n",
    "In Python there are integers and floating point numbers (decimals)\n",
    "\n",
    "**You may have noticed, but in python you do not need to define the type of the variable**\n",
    "- This means I don't need to define the type when declaring variables\n",
    "- In java you need to do something like: **int variable = 5** or **double temp = 5.23**\n",
    "- In python it is simply: **b = 5** or **varialbe = 12.3** or even **name = \"suraj\"** \n",
    "\n",
    "\n"
   ]
  },
  {
   "cell_type": "code",
   "execution_count": null,
   "metadata": {},
   "outputs": [],
   "source": [
    "# Ints\n",
    "print(\"\\nInts:\")\n",
    "a = 6\n",
    "\n",
    "b = 5\n",
    "c = a + b # All regular mathematic symbols work as expected in python (+, -, *, /, % - modulo)\n",
    "\n",
    "# Can anyone explain modulo? Why is it important?\n",
    "\n",
    "print(a, \"plus\", b, \"=\", c) # You can print out any list of objects\n",
    "\n",
    "\n",
    "#Floats\n",
    "print(\"\\nFloats:\")\n",
    "a = 6\n",
    "d = 2.0 # by adding the decimal we change the type of the object created\n",
    "print(a + d)\n",
    "\n",
    "# Why does it print out a decimal?\n",
    "\n",
    "# What if I do something like this:\n",
    "print(int(a+d))"
   ]
  },
  {
   "cell_type": "markdown",
   "metadata": {},
   "source": [
    "# Lists\n",
    "Lists are just another way to think about arrays!"
   ]
  },
  {
   "cell_type": "code",
   "execution_count": null,
   "metadata": {},
   "outputs": [],
   "source": [
    "print(\"\\nLists:\")\n",
    "a = [4,2,3,1] # lists are literally lists of objects\n",
    "print(a)\n",
    "b = [\"hello\", 2, 3.0] # Unlike arrays lists are not limited to one type of object\n",
    "print(b)"
   ]
  },
  {
   "cell_type": "markdown",
   "metadata": {},
   "source": [
    "### Modifying Lists\n",
    "There are many methods available to change and modify lists. They can be in place, so be careful with how you use the methods!"
   ]
  },
  {
   "cell_type": "code",
   "execution_count": null,
   "metadata": {},
   "outputs": [],
   "source": [
    "a = [4,2,3,1] # lists are literally lists of objects\n",
    "\n",
    "b = [\"hello\", 2, 3.0] # Unlike arrays lists are not limited to one type of object\n",
    "\n",
    "\n",
    "print(\"/nModifying Lists:\")\n",
    "b.extend(a) # We can extend a list by elements in another list\n",
    "print(b)\n",
    "b.append(7) #Or we can append singlular values\n",
    "b.append([8, 4]) #Be careful when you are using extend vs append!\n",
    "print(b)\n",
    "\n",
    "print(\"**********\\nSumming and Sorting:\")\n",
    "print(sum(a)) # There are even some very useful list based methods\n",
    "a.sort(reverse = True)\n",
    "c = sorted(a)\n",
    "print(c)\n",
    "\n",
    "sum(b) # But you need to be careful that the operation can iterate over all of the elements in the list"
   ]
  },
  {
   "cell_type": "code",
   "execution_count": null,
   "metadata": {},
   "outputs": [],
   "source": [
    "# Problem 1\n",
    "\"\"\"\n",
    "What happens when we sum ints and floats?\n",
    "\"\"\"\n",
    "\n",
    "a = 2\n",
    "b = 2.3\n",
    "print(a+b)\n",
    "\n",
    "#Problem 2\n",
    "\"\"\"\n",
    "What happens if we set a value equal to a sorted list (e.g. test = a.sort()), \n",
    "can anyone explain why this happens?\n",
    "\"\"\"\n",
    "\n",
    "\n"
   ]
  },
  {
   "cell_type": "markdown",
   "metadata": {},
   "source": [
    "### if, elif, else\n",
    "The basic control flows work pretty similarly in python as other languages. One thing to keep an eye out for is that **\\()** or **\\{\\}** aren't very common, instead **\\':'** are used."
   ]
  },
  {
   "cell_type": "code",
   "execution_count": null,
   "metadata": {},
   "outputs": [],
   "source": [
    "# Python has [if, elif, else], for, while, [try, except, finally]\n",
    "\n",
    "print(\"\\nif, elif, and else:\")\n",
    "a = 3\n",
    "b = 5\n",
    "\n",
    "#Any control flow or function definition is capped by a :\n",
    "if a < b:\n",
    "    # Note: Python is tab/whitespace delimited - meaning no {} or ;\n",
    "    # Note 2: It is highly recommended that you setup your editor to tab using spaces, I prefer 4 space tabs!\n",
    "    print(\"{} is less than {}\".format(a, b))\n",
    "elif a == b: # 'elif' is equivalent to 'else if'\n",
    "    print(\"{} equals {}\".format(a, b))\n",
    "else:\n",
    "    print(\"{} is greater than {}\".format(a, b))\n",
    "    \n",
    "# Lets try that again with some other numbers"
   ]
  },
  {
   "cell_type": "markdown",
   "metadata": {},
   "source": [
    "### For loops\n",
    "For loops will loop through any iterator (think list, dictionary items, etc). An iterator is an object that that defines an __iter__ method, but that won't be discussed here.\n",
    "\n",
    "Essentially this means that we **don't need to index into** iterators/lists when looping through elements."
   ]
  },
  {
   "cell_type": "code",
   "execution_count": null,
   "metadata": {},
   "outputs": [],
   "source": [
    "print(\"**********\\nIterators:\")  \n",
    "lst = [4,3,2,1]\n",
    "for ele in lst:\n",
    "    print(ele) # Notice the ele variable represents the actual value, not the index\n",
    "\n",
    "    \n",
    "# For a more traditional loop\n",
    "print(\"**********\\nTraditional For Loop:\")  \n",
    "\n",
    "# For this we need something that generates a list of indexs, we'll use the range() function\n",
    "print(range(10)) # This will produce a range of values from range(init, end)\n",
    "\n",
    "for index in range(len(lst)): #Here we loop through the index of the list\n",
    "    # range is a generator function that will generate numbers [0, len(lst))\n",
    "    print(lst[index])\n",
    "    if index == 2: break #break command causes you to exit a loop\n",
    "    \n",
    "    \n",
    "print(\"**********\\nElements and Index:\")        \n",
    "# For both effects we can iterate using the enumerate() function\n",
    "for index, ele in enumerate(lst):\n",
    "    print(\"{} is the {} element\".format(ele, index))\n",
    "    "
   ]
  },
  {
   "cell_type": "markdown",
   "metadata": {},
   "source": [
    "### Try it yourself!"
   ]
  },
  {
   "cell_type": "code",
   "execution_count": null,
   "metadata": {},
   "outputs": [],
   "source": [
    "# Problem 1\n",
    "\"\"\"\n",
    "Given the list (lst) below, calculate the average or mean using a for loop\n",
    "\"\"\"\n",
    "lst = [23,55,2,57,9,423,4,75,8] #should get 72.88\n",
    "\n",
    "# Problem 2\n",
    "\"\"\"\n",
    "Given a list (lst), determine if a value (val) exists in the list\n",
    "\"\"\"\n",
    "lst = [32, 394, \"hello\", 312, \"Monday\", 9.0, True, \"Python\"]\n",
    "val = \"Monday\"\n",
    "\n",
    "\n",
    "\n",
    "# Problem 3\n",
    "\"\"\"\n",
    "Print out every even number from [50, 100] using a for loop\n",
    "   - Hint: the range() method works like indexing (start, stop, jump)\n",
    "\"\"\"\n"
   ]
  },
  {
   "cell_type": "code",
   "execution_count": null,
   "metadata": {},
   "outputs": [],
   "source": []
  }
 ],
 "metadata": {
  "kernelspec": {
   "display_name": "env",
   "language": "python",
   "name": "env"
  },
  "language_info": {
   "codemirror_mode": {
    "name": "ipython",
    "version": 3
   },
   "file_extension": ".py",
   "mimetype": "text/x-python",
   "name": "python",
   "nbconvert_exporter": "python",
   "pygments_lexer": "ipython3",
   "version": "3.5.2"
  }
 },
 "nbformat": 4,
 "nbformat_minor": 2
}
