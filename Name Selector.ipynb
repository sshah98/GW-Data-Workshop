{
 "cells": [
  {
   "cell_type": "code",
   "execution_count": 6,
   "metadata": {},
   "outputs": [],
   "source": [
    "import pandas as pd"
   ]
  },
  {
   "cell_type": "code",
   "execution_count": 9,
   "metadata": {},
   "outputs": [
    {
     "name": "stdout",
     "output_type": "stream",
     "text": [
      "          Full Name\n",
      "2  Erminia Garica  \n"
     ]
    }
   ],
   "source": [
    "df = pd.read_csv('Form Responses 1.csv')\n",
    "\n",
    "# shuffle all the rows first\n",
    "df = df.sample(frac=1).reset_index(drop=True)\n",
    "# print(df)\n",
    "\n",
    "# remove timestamp\n",
    "df = df.drop(df.columns[[0]], axis=1)\n",
    "\n",
    "# randomly get 5 names\n",
    "new_df = pd.DataFrame.sample(df, n=5)\n",
    "\n",
    "# randomly get 1 name from those 5\n",
    "print(pd.DataFrame.sample(new_df))"
   ]
  }
 ],
 "metadata": {
  "kernelspec": {
   "display_name": "env",
   "language": "python",
   "name": "env"
  },
  "language_info": {
   "codemirror_mode": {
    "name": "ipython",
    "version": 3
   },
   "file_extension": ".py",
   "mimetype": "text/x-python",
   "name": "python",
   "nbconvert_exporter": "python",
   "pygments_lexer": "ipython3",
   "version": "3.5.2"
  }
 },
 "nbformat": 4,
 "nbformat_minor": 2
}
