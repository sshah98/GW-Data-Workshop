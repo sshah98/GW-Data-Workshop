{
 "cells": [
  {
   "cell_type": "markdown",
   "metadata": {},
   "source": [
    "# Data Analysis"
   ]
  },
  {
   "cell_type": "markdown",
   "metadata": {},
   "source": [
    "## Working with dataframes and Pandas\n",
    "\n",
    "### Okay so what is all this code?\n",
    "Directly below, this cell is importing packages that we will use. \n",
    "Packages are basically other functions people have written for us to use. It makes things like machine learning and high frequency trading possible!"
   ]
  },
  {
   "cell_type": "code",
   "execution_count": null,
   "metadata": {},
   "outputs": [],
   "source": [
    "import pandas as pd\n",
    "import matplotlib.pyplot as plt\n",
    "%matplotlib inline"
   ]
  },
  {
   "cell_type": "markdown",
   "metadata": {},
   "source": [
    "### Dataframes\n",
    "df is a variable shortend for \"dataframe\" - basically an excel table in Python. So...let's use python to find out what this data is and extrapolate information from it. "
   ]
  },
  {
   "cell_type": "code",
   "execution_count": null,
   "metadata": {},
   "outputs": [],
   "source": [
    "# making a df variable, reading in a csv and then printing out the rows and coloumns\n",
    "df = pd.read_csv('sample_data.csv')\n",
    "print('# of columns:', len(df.columns))\n",
    "print('# of rows:', len(df))\n",
    "\n",
    "# Will output 5 rows of the data (good to see a sample of the data)\n",
    "df.head()"
   ]
  },
  {
   "cell_type": "code",
   "execution_count": null,
   "metadata": {},
   "outputs": [],
   "source": [
    "# gets information about the count, mean, and other statistical data\n",
    "print(df['price'].describe())"
   ]
  },
  {
   "cell_type": "markdown",
   "metadata": {},
   "source": [
    "### So what is this dataset? Can anyone take any guesses?"
   ]
  },
  {
   "cell_type": "code",
   "execution_count": null,
   "metadata": {},
   "outputs": [],
   "source": [
    "# Dataframe output of everything (Transposing the data)\n",
    "df.describe().T"
   ]
  },
  {
   "cell_type": "markdown",
   "metadata": {},
   "source": [
    "### Data visualization\n",
    "Visualizing data is super important! It's much easier to see your numbers in a pretty graph than a boring table! Let's use Pandas and Python to see what the data looks like"
   ]
  },
  {
   "cell_type": "code",
   "execution_count": null,
   "metadata": {},
   "outputs": [],
   "source": [
    "# clearly sacremento is not the only city with housing data but there's a lot\n",
    "# this gets the top 5 from the \"city\" column in the data frame and makes a bar chart\n",
    "df['city'].value_counts().head(5).plot.bar()"
   ]
  },
  {
   "cell_type": "code",
   "execution_count": null,
   "metadata": {},
   "outputs": [],
   "source": [
    "# This is super cool, without opening the csv, we can infer so much from this graph.\n",
    "# Any inferences we can make?\n",
    "df.plot.scatter(x='sq__ft', y='price')"
   ]
  },
  {
   "cell_type": "code",
   "execution_count": null,
   "metadata": {},
   "outputs": [],
   "source": [
    "# Let's try and get the price per sq__ft for each row\n",
    "\n",
    "df['per_sq_ft'] = df['price'] / df['sq__ft']\n",
    "df.head()\n",
    "\n",
    "# Yup, it's that easy!"
   ]
  },
  {
   "cell_type": "code",
   "execution_count": null,
   "metadata": {},
   "outputs": [],
   "source": []
  }
 ],
 "metadata": {
  "kernelspec": {
   "display_name": "env",
   "language": "python",
   "name": "env"
  },
  "language_info": {
   "codemirror_mode": {
    "name": "ipython",
    "version": 3
   },
   "file_extension": ".py",
   "mimetype": "text/x-python",
   "name": "python",
   "nbconvert_exporter": "python",
   "pygments_lexer": "ipython3",
   "version": "3.5.2"
  }
 },
 "nbformat": 4,
 "nbformat_minor": 2
}
